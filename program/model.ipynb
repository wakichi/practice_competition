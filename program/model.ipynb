{
 "cells": [
  {
   "cell_type": "markdown",
   "id": "random-lightning",
   "metadata": {},
   "source": [
    "# 必須"
   ]
  },
  {
   "cell_type": "code",
   "execution_count": 323,
   "id": "presidential-holiday",
   "metadata": {},
   "outputs": [],
   "source": [
    "import os\n",
    "from glob import glob\n",
    "import numpy as np\n",
    "import pandas as pd\n",
    "import matplotlib.pyplot as plt\n",
    "import seaborn as sns\n",
    "import datetime\n",
    "import sys \n",
    "sys.path.append(\"..\")\n",
    "\n",
    "from utils import *\n",
    "\n",
    "def lgb_f1_score(y_hat, data):\n",
    "    y_true = data.get_label()\n",
    "    y_hat = np.round(y_hat) # scikits f1 doesn't like probabilities\n",
    "    return 'f1', f1_score(y_true, y_hat), True"
   ]
  },
  {
   "cell_type": "code",
   "execution_count": 272,
   "id": "cognitive-exhaust",
   "metadata": {},
   "outputs": [
    {
     "name": "stdout",
     "output_type": "stream",
     "text": [
      "../feature/10301905.csv was read\n"
     ]
    }
   ],
   "source": [
    "\n",
    "df = read_new_csv()\n",
    "df_train, df_test = df_split(df)\n",
    "#date_df = read_csv(date)"
   ]
  },
  {
   "cell_type": "code",
   "execution_count": 210,
   "id": "textile-assembly",
   "metadata": {},
   "outputs": [
    {
     "data": {
      "text/html": [
       "<div>\n",
       "<style scoped>\n",
       "    .dataframe tbody tr th:only-of-type {\n",
       "        vertical-align: middle;\n",
       "    }\n",
       "\n",
       "    .dataframe tbody tr th {\n",
       "        vertical-align: top;\n",
       "    }\n",
       "\n",
       "    .dataframe thead th {\n",
       "        text-align: right;\n",
       "    }\n",
       "</style>\n",
       "<table border=\"1\" class=\"dataframe\">\n",
       "  <thead>\n",
       "    <tr style=\"text-align: right;\">\n",
       "      <th></th>\n",
       "      <th>id</th>\n",
       "      <th>loan_amnt</th>\n",
       "      <th>term</th>\n",
       "      <th>interest_rate</th>\n",
       "      <th>grade</th>\n",
       "      <th>employment_length</th>\n",
       "      <th>purpose</th>\n",
       "      <th>grade.1</th>\n",
       "      <th>credit_score</th>\n",
       "      <th>application_type</th>\n",
       "      <th>...</th>\n",
       "      <th>credit_1</th>\n",
       "      <th>credit_2</th>\n",
       "      <th>credit_3</th>\n",
       "      <th>credit_4</th>\n",
       "      <th>loan_grade</th>\n",
       "      <th>loan_0</th>\n",
       "      <th>loan_1</th>\n",
       "      <th>loan_2</th>\n",
       "      <th>loan_3</th>\n",
       "      <th>loan_4</th>\n",
       "    </tr>\n",
       "  </thead>\n",
       "  <tbody>\n",
       "    <tr>\n",
       "      <th>0</th>\n",
       "      <td>0</td>\n",
       "      <td>1742.228656</td>\n",
       "      <td>5</td>\n",
       "      <td>7.992879</td>\n",
       "      <td>4</td>\n",
       "      <td>8</td>\n",
       "      <td>debt_consolidation</td>\n",
       "      <td>A4</td>\n",
       "      <td>677.196371</td>\n",
       "      <td>Individual</td>\n",
       "      <td>...</td>\n",
       "      <td>1</td>\n",
       "      <td>0</td>\n",
       "      <td>0</td>\n",
       "      <td>0</td>\n",
       "      <td>loan_2</td>\n",
       "      <td>0</td>\n",
       "      <td>0</td>\n",
       "      <td>1</td>\n",
       "      <td>0</td>\n",
       "      <td>0</td>\n",
       "    </tr>\n",
       "    <tr>\n",
       "      <th>1</th>\n",
       "      <td>1</td>\n",
       "      <td>630.300979</td>\n",
       "      <td>3</td>\n",
       "      <td>13.604302</td>\n",
       "      <td>18</td>\n",
       "      <td>6</td>\n",
       "      <td>debt_consolidation</td>\n",
       "      <td>D3</td>\n",
       "      <td>655.143270</td>\n",
       "      <td>Individual</td>\n",
       "      <td>...</td>\n",
       "      <td>0</td>\n",
       "      <td>0</td>\n",
       "      <td>0</td>\n",
       "      <td>0</td>\n",
       "      <td>loan_0</td>\n",
       "      <td>1</td>\n",
       "      <td>0</td>\n",
       "      <td>0</td>\n",
       "      <td>0</td>\n",
       "      <td>0</td>\n",
       "    </tr>\n",
       "    <tr>\n",
       "      <th>2</th>\n",
       "      <td>2</td>\n",
       "      <td>1606.895116</td>\n",
       "      <td>5</td>\n",
       "      <td>24.674460</td>\n",
       "      <td>15</td>\n",
       "      <td>10</td>\n",
       "      <td>credit_card</td>\n",
       "      <td>C5</td>\n",
       "      <td>680.532978</td>\n",
       "      <td>Individual</td>\n",
       "      <td>...</td>\n",
       "      <td>1</td>\n",
       "      <td>0</td>\n",
       "      <td>0</td>\n",
       "      <td>0</td>\n",
       "      <td>loan_2</td>\n",
       "      <td>0</td>\n",
       "      <td>0</td>\n",
       "      <td>1</td>\n",
       "      <td>0</td>\n",
       "      <td>0</td>\n",
       "    </tr>\n",
       "    <tr>\n",
       "      <th>3</th>\n",
       "      <td>3</td>\n",
       "      <td>1120.716185</td>\n",
       "      <td>3</td>\n",
       "      <td>13.407068</td>\n",
       "      <td>11</td>\n",
       "      <td>1</td>\n",
       "      <td>credit_card</td>\n",
       "      <td>C1</td>\n",
       "      <td>659.544561</td>\n",
       "      <td>Individual</td>\n",
       "      <td>...</td>\n",
       "      <td>0</td>\n",
       "      <td>0</td>\n",
       "      <td>0</td>\n",
       "      <td>0</td>\n",
       "      <td>loan_1</td>\n",
       "      <td>0</td>\n",
       "      <td>1</td>\n",
       "      <td>0</td>\n",
       "      <td>0</td>\n",
       "      <td>0</td>\n",
       "    </tr>\n",
       "    <tr>\n",
       "      <th>4</th>\n",
       "      <td>4</td>\n",
       "      <td>688.615551</td>\n",
       "      <td>3</td>\n",
       "      <td>18.118501</td>\n",
       "      <td>12</td>\n",
       "      <td>10</td>\n",
       "      <td>other</td>\n",
       "      <td>C2</td>\n",
       "      <td>654.822203</td>\n",
       "      <td>Individual</td>\n",
       "      <td>...</td>\n",
       "      <td>0</td>\n",
       "      <td>0</td>\n",
       "      <td>0</td>\n",
       "      <td>0</td>\n",
       "      <td>loan_0</td>\n",
       "      <td>1</td>\n",
       "      <td>0</td>\n",
       "      <td>0</td>\n",
       "      <td>0</td>\n",
       "      <td>0</td>\n",
       "    </tr>\n",
       "    <tr>\n",
       "      <th>...</th>\n",
       "      <td>...</td>\n",
       "      <td>...</td>\n",
       "      <td>...</td>\n",
       "      <td>...</td>\n",
       "      <td>...</td>\n",
       "      <td>...</td>\n",
       "      <td>...</td>\n",
       "      <td>...</td>\n",
       "      <td>...</td>\n",
       "      <td>...</td>\n",
       "      <td>...</td>\n",
       "      <td>...</td>\n",
       "      <td>...</td>\n",
       "      <td>...</td>\n",
       "      <td>...</td>\n",
       "      <td>...</td>\n",
       "      <td>...</td>\n",
       "      <td>...</td>\n",
       "      <td>...</td>\n",
       "      <td>...</td>\n",
       "      <td>...</td>\n",
       "    </tr>\n",
       "    <tr>\n",
       "      <th>24995</th>\n",
       "      <td>17495</td>\n",
       "      <td>2495.568495</td>\n",
       "      <td>3</td>\n",
       "      <td>11.806962</td>\n",
       "      <td>8</td>\n",
       "      <td>10</td>\n",
       "      <td>credit_card</td>\n",
       "      <td>B3</td>\n",
       "      <td>679.886560</td>\n",
       "      <td>Individual</td>\n",
       "      <td>...</td>\n",
       "      <td>1</td>\n",
       "      <td>0</td>\n",
       "      <td>0</td>\n",
       "      <td>0</td>\n",
       "      <td>loan_3</td>\n",
       "      <td>0</td>\n",
       "      <td>0</td>\n",
       "      <td>0</td>\n",
       "      <td>1</td>\n",
       "      <td>0</td>\n",
       "    </tr>\n",
       "    <tr>\n",
       "      <th>24996</th>\n",
       "      <td>17496</td>\n",
       "      <td>636.151639</td>\n",
       "      <td>3</td>\n",
       "      <td>11.449207</td>\n",
       "      <td>7</td>\n",
       "      <td>0</td>\n",
       "      <td>car</td>\n",
       "      <td>B2</td>\n",
       "      <td>660.318169</td>\n",
       "      <td>Individual</td>\n",
       "      <td>...</td>\n",
       "      <td>0</td>\n",
       "      <td>0</td>\n",
       "      <td>0</td>\n",
       "      <td>0</td>\n",
       "      <td>loan_0</td>\n",
       "      <td>1</td>\n",
       "      <td>0</td>\n",
       "      <td>0</td>\n",
       "      <td>0</td>\n",
       "      <td>0</td>\n",
       "    </tr>\n",
       "    <tr>\n",
       "      <th>24997</th>\n",
       "      <td>17497</td>\n",
       "      <td>2398.851088</td>\n",
       "      <td>5</td>\n",
       "      <td>24.501209</td>\n",
       "      <td>25</td>\n",
       "      <td>8</td>\n",
       "      <td>debt_consolidation</td>\n",
       "      <td>E5</td>\n",
       "      <td>657.758005</td>\n",
       "      <td>Individual</td>\n",
       "      <td>...</td>\n",
       "      <td>0</td>\n",
       "      <td>0</td>\n",
       "      <td>0</td>\n",
       "      <td>0</td>\n",
       "      <td>loan_3</td>\n",
       "      <td>0</td>\n",
       "      <td>0</td>\n",
       "      <td>0</td>\n",
       "      <td>1</td>\n",
       "      <td>0</td>\n",
       "    </tr>\n",
       "    <tr>\n",
       "      <th>24998</th>\n",
       "      <td>17498</td>\n",
       "      <td>1010.424260</td>\n",
       "      <td>3</td>\n",
       "      <td>8.196667</td>\n",
       "      <td>5</td>\n",
       "      <td>0</td>\n",
       "      <td>medical</td>\n",
       "      <td>A5</td>\n",
       "      <td>707.729934</td>\n",
       "      <td>Individual</td>\n",
       "      <td>...</td>\n",
       "      <td>0</td>\n",
       "      <td>0</td>\n",
       "      <td>1</td>\n",
       "      <td>0</td>\n",
       "      <td>loan_1</td>\n",
       "      <td>0</td>\n",
       "      <td>1</td>\n",
       "      <td>0</td>\n",
       "      <td>0</td>\n",
       "      <td>0</td>\n",
       "    </tr>\n",
       "    <tr>\n",
       "      <th>24999</th>\n",
       "      <td>17499</td>\n",
       "      <td>1106.931375</td>\n",
       "      <td>3</td>\n",
       "      <td>7.097667</td>\n",
       "      <td>1</td>\n",
       "      <td>1</td>\n",
       "      <td>credit_card</td>\n",
       "      <td>A1</td>\n",
       "      <td>716.322383</td>\n",
       "      <td>Individual</td>\n",
       "      <td>...</td>\n",
       "      <td>0</td>\n",
       "      <td>0</td>\n",
       "      <td>1</td>\n",
       "      <td>0</td>\n",
       "      <td>loan_1</td>\n",
       "      <td>0</td>\n",
       "      <td>1</td>\n",
       "      <td>0</td>\n",
       "      <td>0</td>\n",
       "      <td>0</td>\n",
       "    </tr>\n",
       "  </tbody>\n",
       "</table>\n",
       "<p>25000 rows × 42 columns</p>\n",
       "</div>"
      ],
      "text/plain": [
       "          id    loan_amnt  term  interest_rate  grade  employment_length  \\\n",
       "0          0  1742.228656     5       7.992879      4                  8   \n",
       "1          1   630.300979     3      13.604302     18                  6   \n",
       "2          2  1606.895116     5      24.674460     15                 10   \n",
       "3          3  1120.716185     3      13.407068     11                  1   \n",
       "4          4   688.615551     3      18.118501     12                 10   \n",
       "...      ...          ...   ...            ...    ...                ...   \n",
       "24995  17495  2495.568495     3      11.806962      8                 10   \n",
       "24996  17496   636.151639     3      11.449207      7                  0   \n",
       "24997  17497  2398.851088     5      24.501209     25                  8   \n",
       "24998  17498  1010.424260     3       8.196667      5                  0   \n",
       "24999  17499  1106.931375     3       7.097667      1                  1   \n",
       "\n",
       "                  purpose grade.1  credit_score application_type  ...  \\\n",
       "0      debt_consolidation      A4    677.196371       Individual  ...   \n",
       "1      debt_consolidation      D3    655.143270       Individual  ...   \n",
       "2             credit_card      C5    680.532978       Individual  ...   \n",
       "3             credit_card      C1    659.544561       Individual  ...   \n",
       "4                   other      C2    654.822203       Individual  ...   \n",
       "...                   ...     ...           ...              ...  ...   \n",
       "24995         credit_card      B3    679.886560       Individual  ...   \n",
       "24996                 car      B2    660.318169       Individual  ...   \n",
       "24997  debt_consolidation      E5    657.758005       Individual  ...   \n",
       "24998             medical      A5    707.729934       Individual  ...   \n",
       "24999         credit_card      A1    716.322383       Individual  ...   \n",
       "\n",
       "       credit_1  credit_2  credit_3  credit_4  loan_grade  loan_0  loan_1  \\\n",
       "0             1         0         0         0      loan_2       0       0   \n",
       "1             0         0         0         0      loan_0       1       0   \n",
       "2             1         0         0         0      loan_2       0       0   \n",
       "3             0         0         0         0      loan_1       0       1   \n",
       "4             0         0         0         0      loan_0       1       0   \n",
       "...         ...       ...       ...       ...         ...     ...     ...   \n",
       "24995         1         0         0         0      loan_3       0       0   \n",
       "24996         0         0         0         0      loan_0       1       0   \n",
       "24997         0         0         0         0      loan_3       0       0   \n",
       "24998         0         0         1         0      loan_1       0       1   \n",
       "24999         0         0         1         0      loan_1       0       1   \n",
       "\n",
       "       loan_2 loan_3  loan_4  \n",
       "0           1      0       0  \n",
       "1           0      0       0  \n",
       "2           1      0       0  \n",
       "3           0      0       0  \n",
       "4           0      0       0  \n",
       "...       ...    ...     ...  \n",
       "24995       0      1       0  \n",
       "24996       0      0       0  \n",
       "24997       0      1       0  \n",
       "24998       0      0       0  \n",
       "24999       0      0       0  \n",
       "\n",
       "[25000 rows x 42 columns]"
      ]
     },
     "execution_count": 210,
     "metadata": {},
     "output_type": "execute_result"
    }
   ],
   "source": [
    "#df_all = read_csv(ALL)\n",
    "#train_df_,test_df_ = df_split(df_all)\n",
    "df"
   ]
  },
  {
   "cell_type": "markdown",
   "id": "korean-purpose",
   "metadata": {},
   "source": [
    "## データの分割"
   ]
  },
  {
   "cell_type": "code",
   "execution_count": 211,
   "id": "unauthorized-parts",
   "metadata": {},
   "outputs": [
    {
     "data": {
      "text/html": [
       "<div>\n",
       "<style scoped>\n",
       "    .dataframe tbody tr th:only-of-type {\n",
       "        vertical-align: middle;\n",
       "    }\n",
       "\n",
       "    .dataframe tbody tr th {\n",
       "        vertical-align: top;\n",
       "    }\n",
       "\n",
       "    .dataframe thead th {\n",
       "        text-align: right;\n",
       "    }\n",
       "</style>\n",
       "<table border=\"1\" class=\"dataframe\">\n",
       "  <thead>\n",
       "    <tr style=\"text-align: right;\">\n",
       "      <th></th>\n",
       "      <th>id</th>\n",
       "      <th>loan_amnt</th>\n",
       "      <th>term</th>\n",
       "      <th>interest_rate</th>\n",
       "      <th>grade</th>\n",
       "      <th>employment_length</th>\n",
       "      <th>purpose</th>\n",
       "      <th>grade.1</th>\n",
       "      <th>credit_score</th>\n",
       "      <th>application_type</th>\n",
       "      <th>...</th>\n",
       "      <th>credit_1</th>\n",
       "      <th>credit_2</th>\n",
       "      <th>credit_3</th>\n",
       "      <th>credit_4</th>\n",
       "      <th>loan_grade</th>\n",
       "      <th>loan_0</th>\n",
       "      <th>loan_1</th>\n",
       "      <th>loan_2</th>\n",
       "      <th>loan_3</th>\n",
       "      <th>loan_4</th>\n",
       "    </tr>\n",
       "  </thead>\n",
       "  <tbody>\n",
       "    <tr>\n",
       "      <th>24995</th>\n",
       "      <td>17495</td>\n",
       "      <td>2495.568495</td>\n",
       "      <td>3</td>\n",
       "      <td>11.806962</td>\n",
       "      <td>8</td>\n",
       "      <td>10</td>\n",
       "      <td>credit_card</td>\n",
       "      <td>B3</td>\n",
       "      <td>679.886560</td>\n",
       "      <td>Individual</td>\n",
       "      <td>...</td>\n",
       "      <td>1</td>\n",
       "      <td>0</td>\n",
       "      <td>0</td>\n",
       "      <td>0</td>\n",
       "      <td>loan_3</td>\n",
       "      <td>0</td>\n",
       "      <td>0</td>\n",
       "      <td>0</td>\n",
       "      <td>1</td>\n",
       "      <td>0</td>\n",
       "    </tr>\n",
       "    <tr>\n",
       "      <th>24996</th>\n",
       "      <td>17496</td>\n",
       "      <td>636.151639</td>\n",
       "      <td>3</td>\n",
       "      <td>11.449207</td>\n",
       "      <td>7</td>\n",
       "      <td>0</td>\n",
       "      <td>car</td>\n",
       "      <td>B2</td>\n",
       "      <td>660.318169</td>\n",
       "      <td>Individual</td>\n",
       "      <td>...</td>\n",
       "      <td>0</td>\n",
       "      <td>0</td>\n",
       "      <td>0</td>\n",
       "      <td>0</td>\n",
       "      <td>loan_0</td>\n",
       "      <td>1</td>\n",
       "      <td>0</td>\n",
       "      <td>0</td>\n",
       "      <td>0</td>\n",
       "      <td>0</td>\n",
       "    </tr>\n",
       "    <tr>\n",
       "      <th>24997</th>\n",
       "      <td>17497</td>\n",
       "      <td>2398.851088</td>\n",
       "      <td>5</td>\n",
       "      <td>24.501209</td>\n",
       "      <td>25</td>\n",
       "      <td>8</td>\n",
       "      <td>debt_consolidation</td>\n",
       "      <td>E5</td>\n",
       "      <td>657.758005</td>\n",
       "      <td>Individual</td>\n",
       "      <td>...</td>\n",
       "      <td>0</td>\n",
       "      <td>0</td>\n",
       "      <td>0</td>\n",
       "      <td>0</td>\n",
       "      <td>loan_3</td>\n",
       "      <td>0</td>\n",
       "      <td>0</td>\n",
       "      <td>0</td>\n",
       "      <td>1</td>\n",
       "      <td>0</td>\n",
       "    </tr>\n",
       "    <tr>\n",
       "      <th>24998</th>\n",
       "      <td>17498</td>\n",
       "      <td>1010.424260</td>\n",
       "      <td>3</td>\n",
       "      <td>8.196667</td>\n",
       "      <td>5</td>\n",
       "      <td>0</td>\n",
       "      <td>medical</td>\n",
       "      <td>A5</td>\n",
       "      <td>707.729934</td>\n",
       "      <td>Individual</td>\n",
       "      <td>...</td>\n",
       "      <td>0</td>\n",
       "      <td>0</td>\n",
       "      <td>1</td>\n",
       "      <td>0</td>\n",
       "      <td>loan_1</td>\n",
       "      <td>0</td>\n",
       "      <td>1</td>\n",
       "      <td>0</td>\n",
       "      <td>0</td>\n",
       "      <td>0</td>\n",
       "    </tr>\n",
       "    <tr>\n",
       "      <th>24999</th>\n",
       "      <td>17499</td>\n",
       "      <td>1106.931375</td>\n",
       "      <td>3</td>\n",
       "      <td>7.097667</td>\n",
       "      <td>1</td>\n",
       "      <td>1</td>\n",
       "      <td>credit_card</td>\n",
       "      <td>A1</td>\n",
       "      <td>716.322383</td>\n",
       "      <td>Individual</td>\n",
       "      <td>...</td>\n",
       "      <td>0</td>\n",
       "      <td>0</td>\n",
       "      <td>1</td>\n",
       "      <td>0</td>\n",
       "      <td>loan_1</td>\n",
       "      <td>0</td>\n",
       "      <td>1</td>\n",
       "      <td>0</td>\n",
       "      <td>0</td>\n",
       "      <td>0</td>\n",
       "    </tr>\n",
       "  </tbody>\n",
       "</table>\n",
       "<p>5 rows × 42 columns</p>\n",
       "</div>"
      ],
      "text/plain": [
       "          id    loan_amnt  term  interest_rate  grade  employment_length  \\\n",
       "24995  17495  2495.568495     3      11.806962      8                 10   \n",
       "24996  17496   636.151639     3      11.449207      7                  0   \n",
       "24997  17497  2398.851088     5      24.501209     25                  8   \n",
       "24998  17498  1010.424260     3       8.196667      5                  0   \n",
       "24999  17499  1106.931375     3       7.097667      1                  1   \n",
       "\n",
       "                  purpose grade.1  credit_score application_type  ...  \\\n",
       "24995         credit_card      B3    679.886560       Individual  ...   \n",
       "24996                 car      B2    660.318169       Individual  ...   \n",
       "24997  debt_consolidation      E5    657.758005       Individual  ...   \n",
       "24998             medical      A5    707.729934       Individual  ...   \n",
       "24999         credit_card      A1    716.322383       Individual  ...   \n",
       "\n",
       "       credit_1  credit_2  credit_3  credit_4  loan_grade  loan_0  loan_1  \\\n",
       "24995         1         0         0         0      loan_3       0       0   \n",
       "24996         0         0         0         0      loan_0       1       0   \n",
       "24997         0         0         0         0      loan_3       0       0   \n",
       "24998         0         0         1         0      loan_1       0       1   \n",
       "24999         0         0         1         0      loan_1       0       1   \n",
       "\n",
       "       loan_2 loan_3  loan_4  \n",
       "24995       0      1       0  \n",
       "24996       0      0       0  \n",
       "24997       0      1       0  \n",
       "24998       0      0       0  \n",
       "24999       0      0       0  \n",
       "\n",
       "[5 rows x 42 columns]"
      ]
     },
     "execution_count": 211,
     "metadata": {},
     "output_type": "execute_result"
    }
   ],
   "source": [
    "df.tail()"
   ]
  },
  {
   "cell_type": "code",
   "execution_count": 273,
   "id": "demanding-intake",
   "metadata": {},
   "outputs": [
    {
     "data": {
      "text/plain": [
       "Index(['id', 'loan_amnt', 'term', 'interest_rate', 'grade',\n",
       "       'employment_length', 'purpose', 'grade.1', 'credit_score',\n",
       "       'application_type', 'loan_status', 'is_train', 'amnt_per_year',\n",
       "       'grade_ordinal', 'interest', 'sum_amnt', 'grade_bin', 'amntpyear_bin',\n",
       "       'interest_grade', 'interest_0', 'interest_1', 'interest_2',\n",
       "       'interest_3', 'interest_4', '0', '1', '2', '3', '4', 'purpose_major',\n",
       "       'credit_grade', 'credit_0', 'credit_1', 'credit_2', 'credit_3',\n",
       "       'credit_4', 'loan_grade', 'integral_score'],\n",
       "      dtype='object')"
      ]
     },
     "execution_count": 273,
     "metadata": {},
     "output_type": "execute_result"
    }
   ],
   "source": [
    "df.columns"
   ]
  },
  {
   "cell_type": "code",
   "execution_count": 274,
   "id": "limited-personality",
   "metadata": {},
   "outputs": [
    {
     "data": {
      "text/plain": [
       "array([0., 0., 1., ..., 0., 0., 0.])"
      ]
     },
     "execution_count": 274,
     "metadata": {},
     "output_type": "execute_result"
    }
   ],
   "source": [
    "from  sklearn.model_selection  import train_test_split\n",
    "#using = [\"age\", \"job\", \"marital\", \"education\", \"default\", \"balance_log_cut\", \"housing\", \"loan\",\"contact\",  \"duration_log\", \"campaign_bin\", \"pdays\", \"previous_bin\", \"poutcome\", \"month_day\", \"is_job_kesson\",\"is_education_kesson\",\"is_poutcome_kesson\",\"is_contact_kesson\" ]\n",
    "using = ['loan_amnt', 'term', 'interest_4','interest_0', 'grade',\n",
    "       'credit_1', 'purpose_major','credit_0','credit_3','credit_4',]\n",
    "y = df_train[TARGET].values\n",
    "X = df_train[using].values\n",
    "X_train, X_test, y_train, y_test = train_test_split(X, y, test_size=0.3, random_state=0)\n",
    "y"
   ]
  },
  {
   "cell_type": "markdown",
   "id": "nutritional-spoke",
   "metadata": {},
   "source": [
    "# モデル"
   ]
  },
  {
   "cell_type": "code",
   "execution_count": 164,
   "id": "hourly-timeline",
   "metadata": {},
   "outputs": [],
   "source": [
    "SEED = 10\n",
    "# 必要なもののインポート\n",
    "## 予測モデル\n",
    "from sklearn.ensemble import RandomForestClassifier\n",
    "import lightgbm as lgb\n",
    "from sklearn.metrics import f1_score\n",
    "from sklearn.model_selection import StratifiedKFold\n",
    "from sklearn.model_selection import cross_validate"
   ]
  },
  {
   "cell_type": "markdown",
   "id": "welcome-queensland",
   "metadata": {},
   "source": [
    "# 実験"
   ]
  },
  {
   "cell_type": "markdown",
   "id": "loaded-digit",
   "metadata": {},
   "source": [
    "## 検証　with F1 0.25492668483979"
   ]
  },
  {
   "cell_type": "code",
   "execution_count": 225,
   "id": "novel-rebel",
   "metadata": {},
   "outputs": [
    {
     "name": "stdout",
     "output_type": "stream",
     "text": [
      "f1: 0.29933121509723737 \n",
      "\n",
      "{'fit_time': array([1.13690686, 1.16383195, 1.12103391, 1.13153815, 1.12768507]), 'score_time': array([0.07257295, 0.07016015, 0.07185411, 0.07010603, 0.07291007]), 'test_f1': array([0.3166784 , 0.30133146, 0.28531272, 0.28671329, 0.30662021])}\n"
     ]
    }
   ],
   "source": [
    "# 使用するモデル\n",
    "clf = RandomForestClassifier(n_estimators=100, random_state=SEED)\n",
    "\n",
    "# Stratified k-Fold で汎化性能を評価する\n",
    "skf = StratifiedKFold(n_splits=5, shuffle=True, random_state=42)\n",
    "# 評価する指標\n",
    "score_funcs = ['f1']\n",
    "# Cross Validation で検証する\n",
    "scores = cross_validate(clf, X, y, cv=skf, scoring=score_funcs)\n",
    "# 得られた指標を出力する\n",
    "print('f1:', scores['test_f1'].mean(),\"\\n\")\n",
    "print(scores)"
   ]
  },
  {
   "cell_type": "markdown",
   "id": "expressed-highland",
   "metadata": {},
   "source": [
    "0.29933121509723737:0.4166165"
   ]
  },
  {
   "cell_type": "markdown",
   "id": "hidden-simpson",
   "metadata": {},
   "source": [
    "## base line with RFC　（0.９３２）"
   ]
  },
  {
   "cell_type": "code",
   "execution_count": 186,
   "id": "molecular-bible",
   "metadata": {},
   "outputs": [
    {
     "data": {
      "text/plain": [
       "RandomForestClassifier()"
      ]
     },
     "execution_count": 186,
     "metadata": {},
     "output_type": "execute_result"
    }
   ],
   "source": [
    "rf = RandomForestClassifier()\n",
    "rf.fit(X,y)"
   ]
  },
  {
   "cell_type": "code",
   "execution_count": 187,
   "id": "sunrise-calcium",
   "metadata": {},
   "outputs": [],
   "source": [
    "prd = rf.predict_proba(df_test[using])\n",
    "prd_df = pd.DataFrame(prd)[1]\n",
    "prd_df = np.where(prd_df < 0.34, 0, 1)\n",
    "prd_df = pd.DataFrame(prd_df)"
   ]
  },
  {
   "cell_type": "code",
   "execution_count": 188,
   "id": "surrounded-moses",
   "metadata": {},
   "outputs": [
    {
     "data": {
      "text/plain": [
       "array([[0],\n",
       "       [1],\n",
       "       [1],\n",
       "       ...,\n",
       "       [0],\n",
       "       [0],\n",
       "       [0]])"
      ]
     },
     "execution_count": 188,
     "metadata": {},
     "output_type": "execute_result"
    }
   ],
   "source": [
    "np.where(prd_df < 0.34, 0, 1)"
   ]
  },
  {
   "cell_type": "code",
   "execution_count": 189,
   "id": "annoying-tackle",
   "metadata": {},
   "outputs": [
    {
     "name": "stdout",
     "output_type": "stream",
     "text": [
      "../feature/10301343.csv\n",
      "save completed\n"
     ]
    }
   ],
   "source": [
    "save_feature(prd_df)"
   ]
  },
  {
   "cell_type": "code",
   "execution_count": 208,
   "id": "dirty-austria",
   "metadata": {},
   "outputs": [
    {
     "name": "stdout",
     "output_type": "stream",
     "text": [
      "Feature Importances:\n",
      "credit_score  :0.38\n",
      "interest_1    :0.37\n",
      "interest_0    :0.0974\n",
      "interest_2    :0.0505\n",
      "term          :0.0162\n",
      "purpose_major :0.00919\n",
      "loan_amnt     :0.00779\n",
      "interest_4    :0.00722\n",
      "top10\n",
      "'credit_score','interest_1','interest_0','interest_2','term','purpose_major','loan_amnt','interest_4',"
     ]
    }
   ],
   "source": [
    "from pprint import pprint\n",
    "fti = rf.feature_importances_ \n",
    "feature_list = list(zip(using, fti))\n",
    "feature_list.sort(key=lambda x: x[1], reverse = True)\n",
    "max_len_feature = max(map( lambda s: len(s), using))\n",
    "print('Feature Importances:')\n",
    "#pprint(feature_list)\n",
    "for tp in feature_list:\n",
    "    print(\"{:{}}:{:.3}\".format(tp[0],max_len_feature+1, tp[1]))\n",
    "print(\"top10\")\n",
    "for s in feature_list[0:11]:\n",
    "    print(f\"'{s[0]}',\",end = '')"
   ]
  },
  {
   "cell_type": "markdown",
   "id": "realistic-gilbert",
   "metadata": {},
   "source": [
    "## base line with LGBM（0.938）"
   ]
  },
  {
   "cell_type": "code",
   "execution_count": 342,
   "id": "acknowledged-aviation",
   "metadata": {},
   "outputs": [],
   "source": [
    "params = {\n",
    "    # 二値分類問題\n",
    "    'objective': 'binary',\n",
    "    # AUC の最大化を目指す\n",
    "    'metric': 'binary',\n",
    "    # Fatal の場合出力\n",
    "    'verbosity': -1,\n",
    "    \n",
    "}\n",
    "lgb_train = lgb.Dataset(X, y)"
   ]
  },
  {
   "cell_type": "code",
   "execution_count": 232,
   "id": "residential-hostel",
   "metadata": {},
   "outputs": [],
   "source": [
    "model = lgb.train(params, lgb_train,\n",
    "                  verbose_eval=50,  # 50イテレーション毎に学習結果出力\n",
    "                  num_boost_round=100,  # 最大イテレーション回数指定\n",
    "                 )"
   ]
  },
  {
   "cell_type": "code",
   "execution_count": 233,
   "id": "deluxe-victim",
   "metadata": {},
   "outputs": [],
   "source": [
    "y_pred_lgb = model.predict(df_test[using])"
   ]
  },
  {
   "cell_type": "code",
   "execution_count": 53,
   "id": "prompt-demand",
   "metadata": {},
   "outputs": [],
   "source": [
    "prd_df = pd.DataFrame(y_pred_lgb)\n",
    "#df_prd = prd_df.iloc[:, [1]]\n",
    "prd_df.to_csv(SUBMIT+\"/hoo3.csv\")\n",
    "#to_submit_csv(prd_df)"
   ]
  },
  {
   "cell_type": "code",
   "execution_count": 51,
   "id": "forty-photography",
   "metadata": {},
   "outputs": [],
   "source": [
    "df_prd = prd_df.iloc[:, [0]]\n",
    "boo = np.squeeze(np.array(df_prd))\n",
    "\n",
    "hoo = np.add(boo, y_pred_lgb)/2"
   ]
  },
  {
   "cell_type": "code",
   "execution_count": 52,
   "id": "structural-touch",
   "metadata": {},
   "outputs": [
    {
     "ename": "KeyError",
     "evalue": "'ID'",
     "output_type": "error",
     "traceback": [
      "\u001b[0;31m---------------------------------------------------------------------------\u001b[0m",
      "\u001b[0;31mKeyError\u001b[0m                                  Traceback (most recent call last)",
      "\u001b[0;32m~/.pyenv/versions/3.8.7/lib/python3.8/site-packages/pandas/core/indexes/base.py\u001b[0m in \u001b[0;36mget_loc\u001b[0;34m(self, key, method, tolerance)\u001b[0m\n\u001b[1;32m   3079\u001b[0m             \u001b[0;32mtry\u001b[0m\u001b[0;34m:\u001b[0m\u001b[0;34m\u001b[0m\u001b[0;34m\u001b[0m\u001b[0m\n\u001b[0;32m-> 3080\u001b[0;31m                 \u001b[0;32mreturn\u001b[0m \u001b[0mself\u001b[0m\u001b[0;34m.\u001b[0m\u001b[0m_engine\u001b[0m\u001b[0;34m.\u001b[0m\u001b[0mget_loc\u001b[0m\u001b[0;34m(\u001b[0m\u001b[0mcasted_key\u001b[0m\u001b[0;34m)\u001b[0m\u001b[0;34m\u001b[0m\u001b[0;34m\u001b[0m\u001b[0m\n\u001b[0m\u001b[1;32m   3081\u001b[0m             \u001b[0;32mexcept\u001b[0m \u001b[0mKeyError\u001b[0m \u001b[0;32mas\u001b[0m \u001b[0merr\u001b[0m\u001b[0;34m:\u001b[0m\u001b[0;34m\u001b[0m\u001b[0;34m\u001b[0m\u001b[0m\n",
      "\u001b[0;32mpandas/_libs/index.pyx\u001b[0m in \u001b[0;36mpandas._libs.index.IndexEngine.get_loc\u001b[0;34m()\u001b[0m\n",
      "\u001b[0;32mpandas/_libs/index.pyx\u001b[0m in \u001b[0;36mpandas._libs.index.IndexEngine.get_loc\u001b[0;34m()\u001b[0m\n",
      "\u001b[0;32mpandas/_libs/hashtable_class_helper.pxi\u001b[0m in \u001b[0;36mpandas._libs.hashtable.PyObjectHashTable.get_item\u001b[0;34m()\u001b[0m\n",
      "\u001b[0;32mpandas/_libs/hashtable_class_helper.pxi\u001b[0m in \u001b[0;36mpandas._libs.hashtable.PyObjectHashTable.get_item\u001b[0;34m()\u001b[0m\n",
      "\u001b[0;31mKeyError\u001b[0m: 'ID'",
      "\nThe above exception was the direct cause of the following exception:\n",
      "\u001b[0;31mKeyError\u001b[0m                                  Traceback (most recent call last)",
      "\u001b[0;32m<ipython-input-52-8fbe5eef621e>\u001b[0m in \u001b[0;36m<module>\u001b[0;34m\u001b[0m\n\u001b[0;32m----> 1\u001b[0;31m \u001b[0mto_submit_csv\u001b[0m\u001b[0;34m(\u001b[0m\u001b[0mpd\u001b[0m\u001b[0;34m.\u001b[0m\u001b[0mDataFrame\u001b[0m\u001b[0;34m(\u001b[0m\u001b[0mhoo\u001b[0m\u001b[0;34m)\u001b[0m\u001b[0;34m)\u001b[0m\u001b[0;34m\u001b[0m\u001b[0;34m\u001b[0m\u001b[0m\n\u001b[0m",
      "\u001b[0;32m~/signate/saimu/program/utils.py\u001b[0m in \u001b[0;36mto_submit_csv\u001b[0;34m(df)\u001b[0m\n\u001b[1;32m     52\u001b[0m     \u001b[0;31m# 要修正\u001b[0m\u001b[0;34m\u001b[0m\u001b[0;34m\u001b[0m\u001b[0;34m\u001b[0m\u001b[0m\n\u001b[1;32m     53\u001b[0m     \u001b[0mdf_test\u001b[0m \u001b[0;34m=\u001b[0m \u001b[0mread_csv\u001b[0m\u001b[0;34m(\u001b[0m\u001b[0mTEST\u001b[0m\u001b[0;34m)\u001b[0m\u001b[0;34m\u001b[0m\u001b[0;34m\u001b[0m\u001b[0m\n\u001b[0;32m---> 54\u001b[0;31m     \u001b[0mdf\u001b[0m\u001b[0;34m[\u001b[0m\u001b[0;34m\"IDppp\"\u001b[0m\u001b[0;34m]\u001b[0m \u001b[0;34m=\u001b[0m\u001b[0mdf_test\u001b[0m\u001b[0;34m[\u001b[0m\u001b[0;34m\"ID\"\u001b[0m\u001b[0;34m]\u001b[0m\u001b[0;34m\u001b[0m\u001b[0;34m\u001b[0m\u001b[0m\n\u001b[0m\u001b[1;32m     55\u001b[0m     \u001b[0mdf\u001b[0m \u001b[0;34m=\u001b[0m \u001b[0mdf\u001b[0m\u001b[0;34m.\u001b[0m\u001b[0mset_axis\u001b[0m\u001b[0;34m(\u001b[0m\u001b[0;34m[\u001b[0m\u001b[0;34m'y'\u001b[0m\u001b[0;34m,\u001b[0m \u001b[0;34m\"ID\"\u001b[0m\u001b[0;34m]\u001b[0m\u001b[0;34m,\u001b[0m \u001b[0maxis\u001b[0m\u001b[0;34m=\u001b[0m\u001b[0;36m1\u001b[0m\u001b[0;34m)\u001b[0m\u001b[0;34m\u001b[0m\u001b[0;34m\u001b[0m\u001b[0m\n\u001b[1;32m     56\u001b[0m     \u001b[0mdf\u001b[0m \u001b[0;34m=\u001b[0m \u001b[0mdf\u001b[0m\u001b[0;34m.\u001b[0m\u001b[0mreindex\u001b[0m\u001b[0;34m(\u001b[0m\u001b[0mcolumns\u001b[0m\u001b[0;34m=\u001b[0m\u001b[0;34m[\u001b[0m\u001b[0;34m'ID'\u001b[0m\u001b[0;34m,\u001b[0m \u001b[0;34m'y'\u001b[0m\u001b[0;34m]\u001b[0m\u001b[0;34m)\u001b[0m\u001b[0;34m\u001b[0m\u001b[0;34m\u001b[0m\u001b[0m\n",
      "\u001b[0;32m~/.pyenv/versions/3.8.7/lib/python3.8/site-packages/pandas/core/frame.py\u001b[0m in \u001b[0;36m__getitem__\u001b[0;34m(self, key)\u001b[0m\n\u001b[1;32m   3022\u001b[0m             \u001b[0;32mif\u001b[0m \u001b[0mself\u001b[0m\u001b[0;34m.\u001b[0m\u001b[0mcolumns\u001b[0m\u001b[0;34m.\u001b[0m\u001b[0mnlevels\u001b[0m \u001b[0;34m>\u001b[0m \u001b[0;36m1\u001b[0m\u001b[0;34m:\u001b[0m\u001b[0;34m\u001b[0m\u001b[0;34m\u001b[0m\u001b[0m\n\u001b[1;32m   3023\u001b[0m                 \u001b[0;32mreturn\u001b[0m \u001b[0mself\u001b[0m\u001b[0;34m.\u001b[0m\u001b[0m_getitem_multilevel\u001b[0m\u001b[0;34m(\u001b[0m\u001b[0mkey\u001b[0m\u001b[0;34m)\u001b[0m\u001b[0;34m\u001b[0m\u001b[0;34m\u001b[0m\u001b[0m\n\u001b[0;32m-> 3024\u001b[0;31m             \u001b[0mindexer\u001b[0m \u001b[0;34m=\u001b[0m \u001b[0mself\u001b[0m\u001b[0;34m.\u001b[0m\u001b[0mcolumns\u001b[0m\u001b[0;34m.\u001b[0m\u001b[0mget_loc\u001b[0m\u001b[0;34m(\u001b[0m\u001b[0mkey\u001b[0m\u001b[0;34m)\u001b[0m\u001b[0;34m\u001b[0m\u001b[0;34m\u001b[0m\u001b[0m\n\u001b[0m\u001b[1;32m   3025\u001b[0m             \u001b[0;32mif\u001b[0m \u001b[0mis_integer\u001b[0m\u001b[0;34m(\u001b[0m\u001b[0mindexer\u001b[0m\u001b[0;34m)\u001b[0m\u001b[0;34m:\u001b[0m\u001b[0;34m\u001b[0m\u001b[0;34m\u001b[0m\u001b[0m\n\u001b[1;32m   3026\u001b[0m                 \u001b[0mindexer\u001b[0m \u001b[0;34m=\u001b[0m \u001b[0;34m[\u001b[0m\u001b[0mindexer\u001b[0m\u001b[0;34m]\u001b[0m\u001b[0;34m\u001b[0m\u001b[0;34m\u001b[0m\u001b[0m\n",
      "\u001b[0;32m~/.pyenv/versions/3.8.7/lib/python3.8/site-packages/pandas/core/indexes/base.py\u001b[0m in \u001b[0;36mget_loc\u001b[0;34m(self, key, method, tolerance)\u001b[0m\n\u001b[1;32m   3080\u001b[0m                 \u001b[0;32mreturn\u001b[0m \u001b[0mself\u001b[0m\u001b[0;34m.\u001b[0m\u001b[0m_engine\u001b[0m\u001b[0;34m.\u001b[0m\u001b[0mget_loc\u001b[0m\u001b[0;34m(\u001b[0m\u001b[0mcasted_key\u001b[0m\u001b[0;34m)\u001b[0m\u001b[0;34m\u001b[0m\u001b[0;34m\u001b[0m\u001b[0m\n\u001b[1;32m   3081\u001b[0m             \u001b[0;32mexcept\u001b[0m \u001b[0mKeyError\u001b[0m \u001b[0;32mas\u001b[0m \u001b[0merr\u001b[0m\u001b[0;34m:\u001b[0m\u001b[0;34m\u001b[0m\u001b[0;34m\u001b[0m\u001b[0m\n\u001b[0;32m-> 3082\u001b[0;31m                 \u001b[0;32mraise\u001b[0m \u001b[0mKeyError\u001b[0m\u001b[0;34m(\u001b[0m\u001b[0mkey\u001b[0m\u001b[0;34m)\u001b[0m \u001b[0;32mfrom\u001b[0m \u001b[0merr\u001b[0m\u001b[0;34m\u001b[0m\u001b[0;34m\u001b[0m\u001b[0m\n\u001b[0m\u001b[1;32m   3083\u001b[0m \u001b[0;34m\u001b[0m\u001b[0m\n\u001b[1;32m   3084\u001b[0m         \u001b[0;32mif\u001b[0m \u001b[0mtolerance\u001b[0m \u001b[0;32mis\u001b[0m \u001b[0;32mnot\u001b[0m \u001b[0;32mNone\u001b[0m\u001b[0;34m:\u001b[0m\u001b[0;34m\u001b[0m\u001b[0;34m\u001b[0m\u001b[0m\n",
      "\u001b[0;31mKeyError\u001b[0m: 'ID'"
     ]
    }
   ],
   "source": [
    "to_submit_csv(pd.DataFrame(hoo))"
   ]
  },
  {
   "cell_type": "code",
   "execution_count": 234,
   "id": "published-network",
   "metadata": {},
   "outputs": [
    {
     "data": {
      "text/plain": [
       "0.2125967076472296"
      ]
     },
     "execution_count": 234,
     "metadata": {},
     "output_type": "execute_result"
    }
   ],
   "source": [
    "np.mean(y_pred_lgb)"
   ]
  },
  {
   "cell_type": "code",
   "execution_count": 239,
   "id": "processed-baking",
   "metadata": {},
   "outputs": [
    {
     "name": "stdout",
     "output_type": "stream",
     "text": [
      "0.22813333333333333\n"
     ]
    }
   ],
   "source": [
    "print(np.mean(np.where(y_pred_lgb < 0.3, 0, 1)))"
   ]
  },
  {
   "cell_type": "code",
   "execution_count": 240,
   "id": "arctic-laser",
   "metadata": {},
   "outputs": [
    {
     "name": "stdout",
     "output_type": "stream",
     "text": [
      "../feature/10301551.csv\n",
      "save completed\n"
     ]
    }
   ],
   "source": [
    "#np.where(y_pred_lgb < 0.35, 0, 1)\n",
    "prd_df = pd.DataFrame(np.where(y_pred_lgb < 0.3, 0, 1))\n",
    "save_feature(prd_df)"
   ]
  },
  {
   "cell_type": "markdown",
   "id": "durable-verification",
   "metadata": {},
   "source": [
    "## かさまし"
   ]
  },
  {
   "cell_type": "code",
   "execution_count": 315,
   "id": "small-roads",
   "metadata": {},
   "outputs": [],
   "source": [
    "from imblearn.over_sampling import SMOTE\n",
    "sm = SMOTE()\n",
    "X_resampled, y_resampled = sm.fit_resample(X_train, y_train)"
   ]
  },
  {
   "cell_type": "code",
   "execution_count": 316,
   "id": "arabic-respect",
   "metadata": {},
   "outputs": [
    {
     "data": {
      "text/plain": [
       "19270"
      ]
     },
     "execution_count": 316,
     "metadata": {},
     "output_type": "execute_result"
    }
   ],
   "source": [
    "len(y_resampled)"
   ]
  },
  {
   "cell_type": "code",
   "execution_count": 335,
   "id": "transsexual-moore",
   "metadata": {},
   "outputs": [
    {
     "name": "stdout",
     "output_type": "stream",
     "text": [
      "0.29028571428571426\n",
      "0.4145427286356821\n"
     ]
    }
   ],
   "source": [
    "# 使用するモデル\n",
    "lgb_train_resapled = lgb.Dataset(X_resampled, y_resampled)\n",
    "gbm = lgb.train(params, lgb_train_resapled,\n",
    "                  verbose_eval=50,  # 50イテレーション毎に学習結果出力\n",
    "                  num_boost_round=50,# 最大イテレーション回数指定\n",
    "                feval=lgb_f1_score,\n",
    "                 )\n",
    "\n",
    "y_repred_proba = gbm.predict(X_test)\n",
    "y_repred=np.where(y_repred_proba < 0.35, 0, 1)\n",
    "print(np.mean(y_repred))\n",
    "print(f1_score(y_repred, y_test))"
   ]
  },
  {
   "cell_type": "code",
   "execution_count": 341,
   "id": "brazilian-fellowship",
   "metadata": {},
   "outputs": [
    {
     "name": "stdout",
     "output_type": "stream",
     "text": [
      "{}\n",
      "0.17485714285714285\n",
      "0.3724539282250242\n",
      "\n"
     ]
    },
    {
     "ename": "ValueError",
     "evalue": "eval results cannot be empty.",
     "output_type": "error",
     "traceback": [
      "\u001b[0;31m---------------------------------------------------------------------------\u001b[0m",
      "\u001b[0;31mValueError\u001b[0m                                Traceback (most recent call last)",
      "\u001b[0;32m<ipython-input-341-5b0a01d4254b>\u001b[0m in \u001b[0;36m<module>\u001b[0;34m\u001b[0m\n\u001b[1;32m     13\u001b[0m \u001b[0mprint\u001b[0m\u001b[0;34m(\u001b[0m\u001b[0mf1_score\u001b[0m\u001b[0;34m(\u001b[0m\u001b[0my_pred\u001b[0m\u001b[0;34m,\u001b[0m \u001b[0my_test\u001b[0m\u001b[0;34m)\u001b[0m\u001b[0;34m)\u001b[0m\u001b[0;34m\u001b[0m\u001b[0;34m\u001b[0m\u001b[0m\n\u001b[1;32m     14\u001b[0m \u001b[0mprint\u001b[0m\u001b[0;34m(\u001b[0m\u001b[0;34m)\u001b[0m\u001b[0;34m\u001b[0m\u001b[0;34m\u001b[0m\u001b[0m\n\u001b[0;32m---> 15\u001b[0;31m \u001b[0mlgb\u001b[0m\u001b[0;34m.\u001b[0m\u001b[0mplot_metric\u001b[0m\u001b[0;34m(\u001b[0m\u001b[0mevals_result\u001b[0m\u001b[0;34m,\u001b[0m \u001b[0mmetric\u001b[0m\u001b[0;34m=\u001b[0m\u001b[0;34m'f1'\u001b[0m\u001b[0;34m)\u001b[0m\u001b[0;34m\u001b[0m\u001b[0;34m\u001b[0m\u001b[0m\n\u001b[0m",
      "\u001b[0;32m~/.pyenv/versions/3.8.7/lib/python3.8/site-packages/lightgbm/plotting.py\u001b[0m in \u001b[0;36mplot_metric\u001b[0;34m(booster, metric, dataset_names, ax, xlim, ylim, title, xlabel, ylabel, figsize, dpi, grid)\u001b[0m\n\u001b[1;32m    307\u001b[0m \u001b[0;34m\u001b[0m\u001b[0m\n\u001b[1;32m    308\u001b[0m     \u001b[0;32mif\u001b[0m \u001b[0;32mnot\u001b[0m \u001b[0mnum_data\u001b[0m\u001b[0;34m:\u001b[0m\u001b[0;34m\u001b[0m\u001b[0;34m\u001b[0m\u001b[0m\n\u001b[0;32m--> 309\u001b[0;31m         \u001b[0;32mraise\u001b[0m \u001b[0mValueError\u001b[0m\u001b[0;34m(\u001b[0m\u001b[0;34m'eval results cannot be empty.'\u001b[0m\u001b[0;34m)\u001b[0m\u001b[0;34m\u001b[0m\u001b[0;34m\u001b[0m\u001b[0m\n\u001b[0m\u001b[1;32m    310\u001b[0m \u001b[0;34m\u001b[0m\u001b[0m\n\u001b[1;32m    311\u001b[0m     \u001b[0;32mif\u001b[0m \u001b[0max\u001b[0m \u001b[0;32mis\u001b[0m \u001b[0;32mNone\u001b[0m\u001b[0;34m:\u001b[0m\u001b[0;34m\u001b[0m\u001b[0;34m\u001b[0m\u001b[0m\n",
      "\u001b[0;31mValueError\u001b[0m: eval results cannot be empty."
     ]
    }
   ],
   "source": [
    "# 使用するモデル\n",
    "evals_result = {}\n",
    "lgb_train_check = lgb.Dataset(X_train, y_train)\n",
    "gbm = lgb.train(params, lgb_train_check,\n",
    "                  verbose_eval=10,  # 50イテレーション毎に学習結果出力\n",
    "                  num_boost_round=100,  # 最大イテレーション回数指定\n",
    "                feval=lgb_f1_score,\n",
    "                evals_result=evals_result,\n",
    "                 )\n",
    "y_pred_proba = gbm.predict(X_test)\n",
    "print(evals_result)\n",
    "y_pred=np.where(y_pred_proba < 0.33, 0, 1)\n",
    "print(np.mean(y_pred))\n",
    "print(f1_score(y_pred, y_test))\n",
    "print()\n",
    "lgb.plot_metric(evals_result, metric='f1')"
   ]
  },
  {
   "cell_type": "markdown",
   "id": "textile-denial",
   "metadata": {},
   "source": [
    "0.3157443157443157:0.4166165"
   ]
  },
  {
   "cell_type": "markdown",
   "id": "cross-health",
   "metadata": {},
   "source": [
    "＝＞　か覚ましした結果よくなっている。"
   ]
  },
  {
   "cell_type": "code",
   "execution_count": 116,
   "id": "comparable-clearing",
   "metadata": {},
   "outputs": [
    {
     "data": {
      "text/plain": [
       "0.16038095238095237"
      ]
     },
     "execution_count": 116,
     "metadata": {},
     "output_type": "execute_result"
    }
   ],
   "source": [
    "np.mean(y_repred)"
   ]
  },
  {
   "cell_type": "markdown",
   "id": "invisible-exception",
   "metadata": {},
   "source": [
    "## ハイパラチューニング"
   ]
  },
  {
   "cell_type": "code",
   "execution_count": 343,
   "id": "dependent-publisher",
   "metadata": {},
   "outputs": [
    {
     "name": "stderr",
     "output_type": "stream",
     "text": [
      "\u001b[32m[I 2021-10-30 19:58:22,820]\u001b[0m A new study created in memory with name: no-name-8231cd27-bde3-41ff-95a7-90da8e03057b\u001b[0m\n",
      "feature_fraction, val_score: 0.476752:  14%|#4        | 1/7 [00:00<00:00,  7.81it/s]\u001b[32m[I 2021-10-30 19:58:22,953]\u001b[0m Trial 0 finished with value: 0.47675237513683877 and parameters: {'feature_fraction': 0.8999999999999999}. Best is trial 0 with value: 0.47675237513683877.\u001b[0m\n",
      "feature_fraction, val_score: 0.476752:  14%|#4        | 1/7 [00:00<00:00,  7.81it/s]\u001b[32m[I 2021-10-30 19:58:23,040]\u001b[0m Trial 1 finished with value: 0.4775228632611667 and parameters: {'feature_fraction': 0.7}. Best is trial 0 with value: 0.47675237513683877.\u001b[0m\n",
      "feature_fraction, val_score: 0.476752:  29%|##8       | 2/7 [00:00<00:00,  7.81it/s]"
     ]
    },
    {
     "name": "stdout",
     "output_type": "stream",
     "text": [
      "[50]\tvalid_0's binary_logloss: 0.476752\n",
      "[50]\tvalid_0's binary_logloss: 0.477523\n"
     ]
    },
    {
     "name": "stderr",
     "output_type": "stream",
     "text": [
      "feature_fraction, val_score: 0.476752:  43%|####2     | 3/7 [00:00<00:00,  8.07it/s]\u001b[32m[I 2021-10-30 19:58:23,198]\u001b[0m Trial 2 finished with value: 0.47695241638721425 and parameters: {'feature_fraction': 0.6}. Best is trial 0 with value: 0.47675237513683877.\u001b[0m\n",
      "feature_fraction, val_score: 0.476752:  43%|####2     | 3/7 [00:00<00:00,  8.07it/s]\u001b[32m[I 2021-10-30 19:58:23,273]\u001b[0m Trial 3 finished with value: 0.4774931917145718 and parameters: {'feature_fraction': 0.5}. Best is trial 0 with value: 0.47675237513683877.\u001b[0m\n",
      "feature_fraction, val_score: 0.476752:  71%|#######1  | 5/7 [00:00<00:00, 10.11it/s]\u001b[32m[I 2021-10-30 19:58:23,349]\u001b[0m Trial 4 finished with value: 0.4779959817029211 and parameters: {'feature_fraction': 1.0}. Best is trial 0 with value: 0.47675237513683877.\u001b[0m\n",
      "feature_fraction, val_score: 0.476752:  71%|#######1  | 5/7 [00:00<00:00, 10.11it/s]"
     ]
    },
    {
     "name": "stdout",
     "output_type": "stream",
     "text": [
      "[50]\tvalid_0's binary_logloss: 0.476952\n",
      "[50]\tvalid_0's binary_logloss: 0.477493\n",
      "[50]\tvalid_0's binary_logloss: 0.477996\n"
     ]
    },
    {
     "name": "stderr",
     "output_type": "stream",
     "text": [
      "feature_fraction, val_score: 0.476752:  71%|#######1  | 5/7 [00:00<00:00, 10.11it/s]\u001b[32m[I 2021-10-30 19:58:23,422]\u001b[0m Trial 5 finished with value: 0.47691940904778773 and parameters: {'feature_fraction': 0.4}. Best is trial 0 with value: 0.47675237513683877.\u001b[0m\n",
      "feature_fraction, val_score: 0.476752: 100%|##########| 7/7 [00:00<00:00, 11.32it/s]\u001b[32m[I 2021-10-30 19:58:23,497]\u001b[0m Trial 6 finished with value: 0.4770165848650083 and parameters: {'feature_fraction': 0.8}. Best is trial 0 with value: 0.47675237513683877.\u001b[0m\n",
      "feature_fraction, val_score: 0.476752: 100%|##########| 7/7 [00:00<00:00, 10.37it/s]\n",
      "num_leaves, val_score: 0.476752:   0%|          | 0/20 [00:00<?, ?it/s]"
     ]
    },
    {
     "name": "stdout",
     "output_type": "stream",
     "text": [
      "[50]\tvalid_0's binary_logloss: 0.476919\n",
      "[50]\tvalid_0's binary_logloss: 0.477017\n"
     ]
    },
    {
     "name": "stderr",
     "output_type": "stream",
     "text": [
      "num_leaves, val_score: 0.476752:   5%|5         | 1/20 [00:00<00:03,  5.94it/s]\u001b[32m[I 2021-10-30 19:58:23,671]\u001b[0m Trial 7 finished with value: 0.4943275089623001 and parameters: {'num_leaves': 164}. Best is trial 7 with value: 0.4943275089623001.\u001b[0m\n",
      "num_leaves, val_score: 0.476752:   5%|5         | 1/20 [00:00<00:03,  5.94it/s]\u001b[32m[I 2021-10-30 19:58:23,770]\u001b[0m Trial 8 finished with value: 0.48355092715023834 and parameters: {'num_leaves': 71}. Best is trial 8 with value: 0.48355092715023834.\u001b[0m\n",
      "num_leaves, val_score: 0.476752:  10%|#         | 2/20 [00:00<00:03,  5.94it/s]"
     ]
    },
    {
     "name": "stdout",
     "output_type": "stream",
     "text": [
      "[50]\tvalid_0's binary_logloss: 0.494328\n",
      "[50]\tvalid_0's binary_logloss: 0.483551\n"
     ]
    },
    {
     "name": "stderr",
     "output_type": "stream",
     "text": [
      "num_leaves, val_score: 0.476752:  15%|#5        | 3/20 [00:00<00:02,  7.51it/s]\u001b[32m[I 2021-10-30 19:58:23,913]\u001b[0m Trial 9 finished with value: 0.4882472608784082 and parameters: {'num_leaves': 105}. Best is trial 8 with value: 0.48355092715023834.\u001b[0m\n",
      "num_leaves, val_score: 0.476586:  15%|#5        | 3/20 [00:00<00:02,  7.51it/s]\u001b[32m[I 2021-10-30 19:58:23,969]\u001b[0m Trial 10 finished with value: 0.47658572081926087 and parameters: {'num_leaves': 20}. Best is trial 10 with value: 0.47658572081926087.\u001b[0m\n",
      "num_leaves, val_score: 0.476586:  25%|##5       | 5/20 [00:00<00:01,  8.98it/s]\u001b[32m[I 2021-10-30 19:58:24,095]\u001b[0m Trial 11 finished with value: 0.49007764353179684 and parameters: {'num_leaves': 125}. Best is trial 10 with value: 0.47658572081926087.\u001b[0m\n",
      "num_leaves, val_score: 0.476586:  25%|##5       | 5/20 [00:00<00:01,  8.98it/s]"
     ]
    },
    {
     "name": "stdout",
     "output_type": "stream",
     "text": [
      "[50]\tvalid_0's binary_logloss: 0.488247\n",
      "[50]\tvalid_0's binary_logloss: 0.476586\n",
      "[50]\tvalid_0's binary_logloss: 0.490078\n"
     ]
    },
    {
     "name": "stderr",
     "output_type": "stream",
     "text": [
      "num_leaves, val_score: 0.476586:  30%|###       | 6/20 [00:00<00:01,  7.25it/s]\u001b[32m[I 2021-10-30 19:58:24,305]\u001b[0m Trial 12 finished with value: 0.5019166967119756 and parameters: {'num_leaves': 215}. Best is trial 10 with value: 0.47658572081926087.\u001b[0m\n",
      "num_leaves, val_score: 0.476586:  30%|###       | 6/20 [00:00<00:01,  7.25it/s]\u001b[32m[I 2021-10-30 19:58:24,384]\u001b[0m Trial 13 finished with value: 0.47868164054179624 and parameters: {'num_leaves': 38}. Best is trial 10 with value: 0.47658572081926087.\u001b[0m\n",
      "num_leaves, val_score: 0.476586:  35%|###5      | 7/20 [00:00<00:01,  7.25it/s]"
     ]
    },
    {
     "name": "stdout",
     "output_type": "stream",
     "text": [
      "[50]\tvalid_0's binary_logloss: 0.501917\n",
      "[50]\tvalid_0's binary_logloss: 0.478682\n"
     ]
    },
    {
     "name": "stderr",
     "output_type": "stream",
     "text": [
      "num_leaves, val_score: 0.476586:  40%|####      | 8/20 [00:01<00:01,  7.48it/s]\u001b[32m[I 2021-10-30 19:58:24,561]\u001b[0m Trial 14 finished with value: 0.49480879568585406 and parameters: {'num_leaves': 172}. Best is trial 10 with value: 0.47658572081926087.\u001b[0m\n",
      "num_leaves, val_score: 0.476586:  45%|####5     | 9/20 [00:01<00:01,  6.93it/s]\u001b[32m[I 2021-10-30 19:58:24,740]\u001b[0m Trial 15 finished with value: 0.4998520389141053 and parameters: {'num_leaves': 207}. Best is trial 10 with value: 0.47658572081926087.\u001b[0m\n",
      "num_leaves, val_score: 0.476586:  45%|####5     | 9/20 [00:01<00:01,  6.93it/s]"
     ]
    },
    {
     "name": "stdout",
     "output_type": "stream",
     "text": [
      "[50]\tvalid_0's binary_logloss: 0.494809\n",
      "[50]\tvalid_0's binary_logloss: 0.499852\n"
     ]
    },
    {
     "name": "stderr",
     "output_type": "stream",
     "text": [
      "num_leaves, val_score: 0.476586:  50%|#####     | 10/20 [00:01<00:01,  7.47it/s]\u001b[32m[I 2021-10-30 19:58:24,843]\u001b[0m Trial 16 finished with value: 0.48206318683096244 and parameters: {'num_leaves': 67}. Best is trial 10 with value: 0.47658572081926087.\u001b[0m\n",
      "num_leaves, val_score: 0.475855:  50%|#####     | 10/20 [00:01<00:01,  7.47it/s]\u001b[32m[I 2021-10-30 19:58:24,902]\u001b[0m Trial 17 finished with value: 0.47585545932389967 and parameters: {'num_leaves': 13}. Best is trial 17 with value: 0.47585545932389967.\u001b[0m\n",
      "num_leaves, val_score: 0.475855:  60%|######    | 12/20 [00:01<00:00, 10.02it/s]\u001b[32m[I 2021-10-30 19:58:24,948]\u001b[0m Trial 18 finished with value: 0.47822370665295916 and parameters: {'num_leaves': 5}. Best is trial 17 with value: 0.47585545932389967.\u001b[0m\n",
      "num_leaves, val_score: 0.475855:  60%|######    | 12/20 [00:01<00:00, 10.02it/s]\u001b[32m[I 2021-10-30 19:58:24,997]\u001b[0m Trial 19 finished with value: 0.4809109915246096 and parameters: {'num_leaves': 3}. Best is trial 17 with value: 0.47585545932389967.\u001b[0m\n",
      "num_leaves, val_score: 0.475855:  65%|######5   | 13/20 [00:01<00:00, 10.02it/s]"
     ]
    },
    {
     "name": "stdout",
     "output_type": "stream",
     "text": [
      "[50]\tvalid_0's binary_logloss: 0.482063\n",
      "[50]\tvalid_0's binary_logloss: 0.475855\n",
      "[50]\tvalid_0's binary_logloss: 0.478224\n",
      "[50]\tvalid_0's binary_logloss: 0.480911\n"
     ]
    },
    {
     "name": "stderr",
     "output_type": "stream",
     "text": [
      "num_leaves, val_score: 0.475855:  70%|#######   | 14/20 [00:01<00:00, 11.00it/s]\u001b[32m[I 2021-10-30 19:58:25,100]\u001b[0m Trial 20 finished with value: 0.47975043432234105 and parameters: {'num_leaves': 52}. Best is trial 17 with value: 0.47585545932389967.\u001b[0m\n",
      "num_leaves, val_score: 0.475855:  70%|#######   | 14/20 [00:01<00:00, 11.00it/s]\u001b[32m[I 2021-10-30 19:58:25,185]\u001b[0m Trial 21 finished with value: 0.4767523751368387 and parameters: {'num_leaves': 31}. Best is trial 17 with value: 0.47585545932389967.\u001b[0m\n",
      "num_leaves, val_score: 0.475855:  75%|#######5  | 15/20 [00:01<00:00, 11.00it/s]"
     ]
    },
    {
     "name": "stdout",
     "output_type": "stream",
     "text": [
      "[50]\tvalid_0's binary_logloss: 0.47975\n",
      "[50]\tvalid_0's binary_logloss: 0.476752\n"
     ]
    },
    {
     "name": "stderr",
     "output_type": "stream",
     "text": [
      "num_leaves, val_score: 0.475855:  80%|########  | 16/20 [00:01<00:00,  8.88it/s]\u001b[32m[I 2021-10-30 19:58:25,407]\u001b[0m Trial 22 finished with value: 0.5056321124826576 and parameters: {'num_leaves': 252}. Best is trial 17 with value: 0.47585545932389967.\u001b[0m\n",
      "num_leaves, val_score: 0.475855:  80%|########  | 16/20 [00:02<00:00,  8.88it/s]\u001b[32m[I 2021-10-30 19:58:25,525]\u001b[0m Trial 23 finished with value: 0.48552984345727185 and parameters: {'num_leaves': 94}. Best is trial 17 with value: 0.47585545932389967.\u001b[0m\n",
      "num_leaves, val_score: 0.475855:  85%|########5 | 17/20 [00:02<00:00,  8.88it/s]"
     ]
    },
    {
     "name": "stdout",
     "output_type": "stream",
     "text": [
      "[50]\tvalid_0's binary_logloss: 0.505632\n",
      "[50]\tvalid_0's binary_logloss: 0.48553\n"
     ]
    },
    {
     "name": "stderr",
     "output_type": "stream",
     "text": [
      "num_leaves, val_score: 0.475855:  90%|######### | 18/20 [00:02<00:00,  9.11it/s]\u001b[32m[I 2021-10-30 19:58:25,615]\u001b[0m Trial 24 finished with value: 0.4764968988559051 and parameters: {'num_leaves': 26}. Best is trial 17 with value: 0.47585545932389967.\u001b[0m\n",
      "num_leaves, val_score: 0.475855:  90%|######### | 18/20 [00:02<00:00,  9.11it/s]\u001b[32m[I 2021-10-30 19:58:25,722]\u001b[0m Trial 25 finished with value: 0.48321139109827727 and parameters: {'num_leaves': 85}. Best is trial 17 with value: 0.47585545932389967.\u001b[0m\n",
      "num_leaves, val_score: 0.475855: 100%|##########| 20/20 [00:02<00:00,  9.60it/s]\u001b[32m[I 2021-10-30 19:58:25,800]\u001b[0m Trial 26 finished with value: 0.4787535498373808 and parameters: {'num_leaves': 45}. Best is trial 17 with value: 0.47585545932389967.\u001b[0m\n",
      "num_leaves, val_score: 0.475855: 100%|##########| 20/20 [00:02<00:00,  8.70it/s]\n",
      "bagging, val_score: 0.475855:   0%|          | 0/10 [00:00<?, ?it/s]"
     ]
    },
    {
     "name": "stdout",
     "output_type": "stream",
     "text": [
      "[50]\tvalid_0's binary_logloss: 0.476497\n",
      "[50]\tvalid_0's binary_logloss: 0.483211\n",
      "[50]\tvalid_0's binary_logloss: 0.478754\n"
     ]
    },
    {
     "name": "stderr",
     "output_type": "stream",
     "text": [
      "bagging, val_score: 0.475855:   0%|          | 0/10 [00:00<?, ?it/s]\u001b[32m[I 2021-10-30 19:58:25,879]\u001b[0m Trial 27 finished with value: 0.4787132926878417 and parameters: {'bagging_fraction': 0.42851637081289656, 'bagging_freq': 5}. Best is trial 27 with value: 0.4787132926878417.\u001b[0m\n",
      "bagging, val_score: 0.475855:  20%|##        | 2/10 [00:00<00:00, 15.09it/s]\u001b[32m[I 2021-10-30 19:58:25,938]\u001b[0m Trial 28 finished with value: 0.47620949242135663 and parameters: {'bagging_fraction': 0.8258638604338053, 'bagging_freq': 2}. Best is trial 28 with value: 0.47620949242135663.\u001b[0m\n",
      "bagging, val_score: 0.475855:  20%|##        | 2/10 [00:00<00:00, 15.09it/s]\u001b[32m[I 2021-10-30 19:58:26,007]\u001b[0m Trial 29 finished with value: 0.4762923269323334 and parameters: {'bagging_fraction': 0.9861686849381612, 'bagging_freq': 6}. Best is trial 28 with value: 0.47620949242135663.\u001b[0m\n",
      "bagging, val_score: 0.475855:  40%|####      | 4/10 [00:00<00:00, 15.33it/s]\u001b[32m[I 2021-10-30 19:58:26,067]\u001b[0m Trial 30 finished with value: 0.47612916705609487 and parameters: {'bagging_fraction': 0.8529357939902374, 'bagging_freq': 1}. Best is trial 30 with value: 0.47612916705609487.\u001b[0m\n",
      "bagging, val_score: 0.475855:  40%|####      | 4/10 [00:00<00:00, 15.33it/s]"
     ]
    },
    {
     "name": "stdout",
     "output_type": "stream",
     "text": [
      "[50]\tvalid_0's binary_logloss: 0.478713\n",
      "[50]\tvalid_0's binary_logloss: 0.476209\n",
      "[50]\tvalid_0's binary_logloss: 0.476292\n",
      "[50]\tvalid_0's binary_logloss: 0.476129\n"
     ]
    },
    {
     "name": "stderr",
     "output_type": "stream",
     "text": [
      "bagging, val_score: 0.475855:  40%|####      | 4/10 [00:00<00:00, 15.33it/s]\u001b[32m[I 2021-10-30 19:58:26,143]\u001b[0m Trial 31 finished with value: 0.4764667300966773 and parameters: {'bagging_fraction': 0.8248339194991656, 'bagging_freq': 6}. Best is trial 30 with value: 0.47612916705609487.\u001b[0m\n",
      "bagging, val_score: 0.475855:  60%|######    | 6/10 [00:00<00:00, 15.17it/s]\u001b[32m[I 2021-10-30 19:58:26,201]\u001b[0m Trial 32 finished with value: 0.4768554766446686 and parameters: {'bagging_fraction': 0.8252455493992625, 'bagging_freq': 1}. Best is trial 30 with value: 0.47612916705609487.\u001b[0m\n",
      "bagging, val_score: 0.475855:  60%|######    | 6/10 [00:00<00:00, 15.17it/s]\u001b[32m[I 2021-10-30 19:58:26,269]\u001b[0m Trial 33 finished with value: 0.4760885726630081 and parameters: {'bagging_fraction': 0.9981346541138972, 'bagging_freq': 4}. Best is trial 33 with value: 0.4760885726630081.\u001b[0m\n",
      "bagging, val_score: 0.475855:  80%|########  | 8/10 [00:00<00:00, 15.18it/s]\u001b[32m[I 2021-10-30 19:58:26,332]\u001b[0m Trial 34 finished with value: 0.4779968189650121 and parameters: {'bagging_fraction': 0.5783228224736241, 'bagging_freq': 4}. Best is trial 33 with value: 0.4760885726630081.\u001b[0m\n",
      "bagging, val_score: 0.475855:  80%|########  | 8/10 [00:00<00:00, 15.18it/s]"
     ]
    },
    {
     "name": "stdout",
     "output_type": "stream",
     "text": [
      "[50]\tvalid_0's binary_logloss: 0.476467\n",
      "[50]\tvalid_0's binary_logloss: 0.476855\n",
      "[50]\tvalid_0's binary_logloss: 0.476089\n",
      "[50]\tvalid_0's binary_logloss: 0.477997\n"
     ]
    },
    {
     "name": "stderr",
     "output_type": "stream",
     "text": [
      "bagging, val_score: 0.475643:  80%|########  | 8/10 [00:00<00:00, 15.18it/s]\u001b[32m[I 2021-10-30 19:58:26,401]\u001b[0m Trial 35 finished with value: 0.4756433347353648 and parameters: {'bagging_fraction': 0.7650577150078758, 'bagging_freq': 3}. Best is trial 35 with value: 0.4756433347353648.\u001b[0m\n",
      "bagging, val_score: 0.475643: 100%|##########| 10/10 [00:00<00:00, 15.52it/s]\u001b[32m[I 2021-10-30 19:58:26,456]\u001b[0m Trial 36 finished with value: 0.4767782476438366 and parameters: {'bagging_fraction': 0.7534360320566307, 'bagging_freq': 1}. Best is trial 35 with value: 0.4756433347353648.\u001b[0m\n",
      "bagging, val_score: 0.475643: 100%|##########| 10/10 [00:00<00:00, 15.33it/s]\n",
      "feature_fraction_stage2, val_score: 0.475643:   0%|          | 0/6 [00:00<?, ?it/s]\u001b[32m[I 2021-10-30 19:58:26,518]\u001b[0m Trial 37 finished with value: 0.4756433347353648 and parameters: {'feature_fraction': 0.948}. Best is trial 37 with value: 0.4756433347353648.\u001b[0m\n",
      "feature_fraction_stage2, val_score: 0.475643:  33%|###3      | 2/6 [00:00<00:00, 15.86it/s]\u001b[32m[I 2021-10-30 19:58:26,586]\u001b[0m Trial 38 finished with value: 0.47564333473536474 and parameters: {'feature_fraction': 0.9159999999999999}. Best is trial 38 with value: 0.47564333473536474.\u001b[0m\n",
      "feature_fraction_stage2, val_score: 0.475643:  33%|###3      | 2/6 [00:00<00:00, 15.86it/s]"
     ]
    },
    {
     "name": "stdout",
     "output_type": "stream",
     "text": [
      "[50]\tvalid_0's binary_logloss: 0.475643\n",
      "[50]\tvalid_0's binary_logloss: 0.476778\n",
      "[50]\tvalid_0's binary_logloss: 0.475643\n",
      "[50]\tvalid_0's binary_logloss: 0.475643\n"
     ]
    },
    {
     "name": "stderr",
     "output_type": "stream",
     "text": [
      "feature_fraction_stage2, val_score: 0.475643:  33%|###3      | 2/6 [00:00<00:00, 15.86it/s]\u001b[32m[I 2021-10-30 19:58:26,665]\u001b[0m Trial 39 finished with value: 0.47564333473536474 and parameters: {'feature_fraction': 0.8839999999999999}. Best is trial 38 with value: 0.47564333473536474.\u001b[0m\n",
      "feature_fraction_stage2, val_score: 0.475643:  67%|######6   | 4/6 [00:00<00:00, 14.43it/s]\u001b[32m[I 2021-10-30 19:58:26,734]\u001b[0m Trial 40 finished with value: 0.47564333473536474 and parameters: {'feature_fraction': 0.852}. Best is trial 38 with value: 0.47564333473536474.\u001b[0m\n",
      "feature_fraction_stage2, val_score: 0.475643:  67%|######6   | 4/6 [00:00<00:00, 14.43it/s]\u001b[32m[I 2021-10-30 19:58:26,804]\u001b[0m Trial 41 finished with value: 0.4764230144977088 and parameters: {'feature_fraction': 0.9799999999999999}. Best is trial 38 with value: 0.47564333473536474.\u001b[0m\n",
      "feature_fraction_stage2, val_score: 0.475643:  83%|########3 | 5/6 [00:00<00:00, 14.43it/s]"
     ]
    },
    {
     "name": "stdout",
     "output_type": "stream",
     "text": [
      "[50]\tvalid_0's binary_logloss: 0.475643\n",
      "[50]\tvalid_0's binary_logloss: 0.475643\n",
      "[50]\tvalid_0's binary_logloss: 0.476423\n",
      "[50]\tvalid_0's binary_logloss: 0.476634\n"
     ]
    },
    {
     "name": "stderr",
     "output_type": "stream",
     "text": [
      "feature_fraction_stage2, val_score: 0.475643: 100%|##########| 6/6 [00:00<00:00, 14.82it/s]\u001b[32m[I 2021-10-30 19:58:26,865]\u001b[0m Trial 42 finished with value: 0.4766342250254881 and parameters: {'feature_fraction': 0.82}. Best is trial 38 with value: 0.47564333473536474.\u001b[0m\n",
      "feature_fraction_stage2, val_score: 0.475643: 100%|##########| 6/6 [00:00<00:00, 14.72it/s]\n",
      "regularization_factors, val_score: 0.475643:   0%|          | 0/20 [00:00<?, ?it/s]\u001b[32m[I 2021-10-30 19:58:26,939]\u001b[0m Trial 43 finished with value: 0.4756433347295968 and parameters: {'lambda_l1': 3.238430598683687e-08, 'lambda_l2': 6.722651954521635e-08}. Best is trial 43 with value: 0.4756433347295968.\u001b[0m\n",
      "regularization_factors, val_score: 0.475643:  10%|#         | 2/20 [00:00<00:01, 14.57it/s]\u001b[32m[I 2021-10-30 19:58:27,009]\u001b[0m Trial 44 finished with value: 0.4761524132805263 and parameters: {'lambda_l1': 1.5319325124857401, 'lambda_l2': 0.0014319206394390626}. Best is trial 43 with value: 0.4756433347295968.\u001b[0m\n",
      "regularization_factors, val_score: 0.475643:  10%|#         | 2/20 [00:00<00:01, 14.57it/s]\u001b[32m[I 2021-10-30 19:58:27,073]\u001b[0m Trial 45 finished with value: 0.475643333919791 and parameters: {'lambda_l1': 1.1090608766528771e-05, 'lambda_l2': 5.534539589216251e-07}. Best is trial 45 with value: 0.475643333919791.\u001b[0m\n",
      "regularization_factors, val_score: 0.475643:  15%|#5        | 3/20 [00:00<00:01, 14.57it/s]"
     ]
    },
    {
     "name": "stdout",
     "output_type": "stream",
     "text": [
      "[50]\tvalid_0's binary_logloss: 0.475643\n",
      "[50]\tvalid_0's binary_logloss: 0.476152\n",
      "[50]\tvalid_0's binary_logloss: 0.475643\n",
      "[50]\tvalid_0's binary_logloss: 0.475643\n"
     ]
    },
    {
     "name": "stderr",
     "output_type": "stream",
     "text": [
      "regularization_factors, val_score: 0.475643:  20%|##        | 4/20 [00:00<00:01, 15.12it/s]\u001b[32m[I 2021-10-30 19:58:27,138]\u001b[0m Trial 46 finished with value: 0.47564331275260086 and parameters: {'lambda_l1': 0.00022746172252878958, 'lambda_l2': 5.966186118081589e-05}. Best is trial 46 with value: 0.47564331275260086.\u001b[0m\n",
      "regularization_factors, val_score: 0.475643:  20%|##        | 4/20 [00:00<00:01, 15.12it/s]\u001b[32m[I 2021-10-30 19:58:27,210]\u001b[0m Trial 47 finished with value: 0.47680497135517347 and parameters: {'lambda_l1': 8.774550066996878e-05, 'lambda_l2': 8.561099497227934}. Best is trial 46 with value: 0.47564331275260086.\u001b[0m\n",
      "regularization_factors, val_score: 0.475643:  30%|###       | 6/20 [00:00<00:00, 14.85it/s]\u001b[32m[I 2021-10-30 19:58:27,276]\u001b[0m Trial 48 finished with value: 0.47564333198776826 and parameters: {'lambda_l1': 3.9929112861072976e-05, 'lambda_l2': 1.4249515958675651e-08}. Best is trial 46 with value: 0.47564331275260086.\u001b[0m\n",
      "regularization_factors, val_score: 0.475643:  30%|###       | 6/20 [00:00<00:00, 14.85it/s]\u001b[32m[I 2021-10-30 19:58:27,337]\u001b[0m Trial 49 finished with value: 0.47564333462890207 and parameters: {'lambda_l1': 4.6514710454582235e-07, 'lambda_l2': 7.695153379382359e-07}. Best is trial 46 with value: 0.47564331275260086.\u001b[0m\n",
      "regularization_factors, val_score: 0.475643:  40%|####      | 8/20 [00:00<00:00, 15.20it/s]\u001b[32m[I 2021-10-30 19:58:27,403]\u001b[0m Trial 50 finished with value: 0.47564333472968595 and parameters: {'lambda_l1': 2.5226139443423915e-07, 'lambda_l2': 7.106535193341612e-08}. Best is trial 46 with value: 0.47564331275260086.\u001b[0m\n",
      "regularization_factors, val_score: 0.475643:  40%|####      | 8/20 [00:00<00:00, 15.20it/s]"
     ]
    },
    {
     "name": "stdout",
     "output_type": "stream",
     "text": [
      "[50]\tvalid_0's binary_logloss: 0.476805\n",
      "[50]\tvalid_0's binary_logloss: 0.475643\n",
      "[50]\tvalid_0's binary_logloss: 0.475643\n",
      "[50]\tvalid_0's binary_logloss: 0.475643\n"
     ]
    },
    {
     "name": "stderr",
     "output_type": "stream",
     "text": [
      "regularization_factors, val_score: 0.475643:  40%|####      | 8/20 [00:00<00:00, 15.20it/s]\u001b[32m[I 2021-10-30 19:58:27,510]\u001b[0m Trial 51 finished with value: 0.4756736381874722 and parameters: {'lambda_l1': 0.0011922655292035756, 'lambda_l2': 0.0009622096958864601}. Best is trial 46 with value: 0.47564331275260086.\u001b[0m\n",
      "regularization_factors, val_score: 0.475643:  50%|#####     | 10/20 [00:00<00:00, 13.81it/s]\u001b[32m[I 2021-10-30 19:58:27,571]\u001b[0m Trial 52 finished with value: 0.4756427503346869 and parameters: {'lambda_l1': 2.9479634029005434e-06, 'lambda_l2': 0.005694770937921034}. Best is trial 52 with value: 0.4756427503346869.\u001b[0m\n",
      "regularization_factors, val_score: 0.475643:  50%|#####     | 10/20 [00:00<00:00, 13.81it/s]\u001b[32m[I 2021-10-30 19:58:27,641]\u001b[0m Trial 53 finished with value: 0.47680447678210647 and parameters: {'lambda_l1': 0.0205058882190381, 'lambda_l2': 0.47892280095641676}. Best is trial 52 with value: 0.4756427503346869.\u001b[0m\n",
      "regularization_factors, val_score: 0.475643:  55%|#####5    | 11/20 [00:00<00:00, 13.81it/s]"
     ]
    },
    {
     "name": "stdout",
     "output_type": "stream",
     "text": [
      "[50]\tvalid_0's binary_logloss: 0.475674\n",
      "[50]\tvalid_0's binary_logloss: 0.475643\n",
      "[50]\tvalid_0's binary_logloss: 0.476804\n"
     ]
    },
    {
     "name": "stderr",
     "output_type": "stream",
     "text": [
      "regularization_factors, val_score: 0.475643:  60%|######    | 12/20 [00:00<00:00, 13.81it/s]\u001b[32m[I 2021-10-30 19:58:27,716]\u001b[0m Trial 54 finished with value: 0.4757073673786714 and parameters: {'lambda_l1': 0.004243457056338588, 'lambda_l2': 0.026629737596606577}. Best is trial 52 with value: 0.4756427503346869.\u001b[0m\n",
      "regularization_factors, val_score: 0.475643:  60%|######    | 12/20 [00:00<00:00, 13.81it/s]\u001b[32m[I 2021-10-30 19:58:27,796]\u001b[0m Trial 55 finished with value: 0.4756433331625887 and parameters: {'lambda_l1': 2.669990089681237e-06, 'lambda_l2': 1.372682086016098e-05}. Best is trial 52 with value: 0.4756427503346869.\u001b[0m\n",
      "regularization_factors, val_score: 0.475643:  70%|#######   | 14/20 [00:01<00:00, 13.46it/s]\u001b[32m[I 2021-10-30 19:58:27,873]\u001b[0m Trial 56 finished with value: 0.4768386418897062 and parameters: {'lambda_l1': 0.07592052217481025, 'lambda_l2': 6.614558274933701e-05}. Best is trial 52 with value: 0.4756427503346869.\u001b[0m\n",
      "regularization_factors, val_score: 0.475643:  70%|#######   | 14/20 [00:01<00:00, 13.46it/s]"
     ]
    },
    {
     "name": "stdout",
     "output_type": "stream",
     "text": [
      "[50]\tvalid_0's binary_logloss: 0.475707\n",
      "[50]\tvalid_0's binary_logloss: 0.475643\n",
      "[50]\tvalid_0's binary_logloss: 0.476839\n"
     ]
    },
    {
     "name": "stderr",
     "output_type": "stream",
     "text": [
      "regularization_factors, val_score: 0.475643:  70%|#######   | 14/20 [00:01<00:00, 13.46it/s]\u001b[32m[I 2021-10-30 19:58:27,952]\u001b[0m Trial 57 finished with value: 0.4756731671924397 and parameters: {'lambda_l1': 0.0005594160874396967, 'lambda_l2': 0.005829883966633738}. Best is trial 52 with value: 0.4756427503346869.\u001b[0m\n",
      "regularization_factors, val_score: 0.475643:  80%|########  | 16/20 [00:01<00:00, 13.42it/s]\u001b[32m[I 2021-10-30 19:58:28,022]\u001b[0m Trial 58 finished with value: 0.4760632454860246 and parameters: {'lambda_l1': 1.024103436437132e-08, 'lambda_l2': 0.07101472345333541}. Best is trial 52 with value: 0.4756427503346869.\u001b[0m\n",
      "regularization_factors, val_score: 0.475643:  80%|########  | 16/20 [00:01<00:00, 13.42it/s]\u001b[32m[I 2021-10-30 19:58:28,089]\u001b[0m Trial 59 finished with value: 0.4756433303948069 and parameters: {'lambda_l1': 2.56633774202915e-06, 'lambda_l2': 4.0454740101714156e-05}. Best is trial 52 with value: 0.4756427503346869.\u001b[0m\n",
      "regularization_factors, val_score: 0.475643:  85%|########5 | 17/20 [00:01<00:00, 13.42it/s]"
     ]
    },
    {
     "name": "stdout",
     "output_type": "stream",
     "text": [
      "[50]\tvalid_0's binary_logloss: 0.475673\n",
      "[50]\tvalid_0's binary_logloss: 0.476063\n",
      "[50]\tvalid_0's binary_logloss: 0.475643\n",
      "[50]\tvalid_0's binary_logloss: 0.475571"
     ]
    },
    {
     "name": "stderr",
     "output_type": "stream",
     "text": [
      "regularization_factors, val_score: 0.475571:  90%|######### | 18/20 [00:01<00:00, 13.72it/s]\u001b[32m[I 2021-10-30 19:58:28,161]\u001b[0m Trial 60 finished with value: 0.4755709520802939 and parameters: {'lambda_l1': 0.8603932803907135, 'lambda_l2': 3.656461970211001e-06}. Best is trial 60 with value: 0.4755709520802939.\u001b[0m\n",
      "regularization_factors, val_score: 0.475571:  90%|######### | 18/20 [00:01<00:00, 13.72it/s]\u001b[32m[I 2021-10-30 19:58:28,231]\u001b[0m Trial 61 finished with value: 0.47614855630090086 and parameters: {'lambda_l1': 3.566100989915552, 'lambda_l2': 1.4914523832939412e-06}. Best is trial 60 with value: 0.4755709520802939.\u001b[0m\n",
      "regularization_factors, val_score: 0.475571: 100%|##########| 20/20 [00:01<00:00, 13.92it/s]\u001b[32m[I 2021-10-30 19:58:28,300]\u001b[0m Trial 62 finished with value: 0.47643034553247415 and parameters: {'lambda_l1': 0.6985011212716515, 'lambda_l2': 3.16440087725258e-06}. Best is trial 60 with value: 0.4755709520802939.\u001b[0m\n",
      "regularization_factors, val_score: 0.475571: 100%|##########| 20/20 [00:01<00:00, 13.98it/s]\n",
      "min_data_in_leaf, val_score: 0.475571:   0%|          | 0/5 [00:00<?, ?it/s]"
     ]
    },
    {
     "name": "stdout",
     "output_type": "stream",
     "text": [
      "\n",
      "[50]\tvalid_0's binary_logloss: 0.476149\n",
      "[50]\tvalid_0's binary_logloss: 0.47643\n"
     ]
    },
    {
     "name": "stderr",
     "output_type": "stream",
     "text": [
      "min_data_in_leaf, val_score: 0.475571:   0%|          | 0/5 [00:00<?, ?it/s]\u001b[32m[I 2021-10-30 19:58:28,389]\u001b[0m Trial 63 finished with value: 0.4759356190256141 and parameters: {'min_child_samples': 25}. Best is trial 63 with value: 0.4759356190256141.\u001b[0m\n",
      "min_data_in_leaf, val_score: 0.475571:  40%|####      | 2/5 [00:00<00:00, 12.76it/s]\u001b[32m[I 2021-10-30 19:58:28,462]\u001b[0m Trial 64 finished with value: 0.47600944543420665 and parameters: {'min_child_samples': 10}. Best is trial 63 with value: 0.4759356190256141.\u001b[0m\n",
      "min_data_in_leaf, val_score: 0.475571:  40%|####      | 2/5 [00:00<00:00, 12.76it/s]\u001b[32m[I 2021-10-30 19:58:28,534]\u001b[0m Trial 65 finished with value: 0.47606411504685464 and parameters: {'min_child_samples': 5}. Best is trial 63 with value: 0.4759356190256141.\u001b[0m\n",
      "min_data_in_leaf, val_score: 0.475571:  60%|######    | 3/5 [00:00<00:00, 12.76it/s]"
     ]
    },
    {
     "name": "stdout",
     "output_type": "stream",
     "text": [
      "[50]\tvalid_0's binary_logloss: 0.475936\n",
      "[50]\tvalid_0's binary_logloss: 0.476009\n",
      "[50]\tvalid_0's binary_logloss: 0.476064\n"
     ]
    },
    {
     "name": "stderr",
     "output_type": "stream",
     "text": [
      "min_data_in_leaf, val_score: 0.475571:  80%|########  | 4/5 [00:00<00:00, 11.60it/s]\u001b[32m[I 2021-10-30 19:58:28,645]\u001b[0m Trial 66 finished with value: 0.47609968551863285 and parameters: {'min_child_samples': 50}. Best is trial 63 with value: 0.4759356190256141.\u001b[0m\n",
      "min_data_in_leaf, val_score: 0.475571:  80%|########  | 4/5 [00:00<00:00, 11.60it/s]\u001b[32m[I 2021-10-30 19:58:28,728]\u001b[0m Trial 67 finished with value: 0.47646440234707416 and parameters: {'min_child_samples': 100}. Best is trial 63 with value: 0.4759356190256141.\u001b[0m\n",
      "min_data_in_leaf, val_score: 0.475571: 100%|##########| 5/5 [00:00<00:00, 11.75it/s]\n"
     ]
    },
    {
     "name": "stdout",
     "output_type": "stream",
     "text": [
      "[50]\tvalid_0's binary_logloss: 0.4761\n",
      "[50]\tvalid_0's binary_logloss: 0.476464\n",
      "0.14685714285714285\n",
      "0.3676240208877285\n"
     ]
    }
   ],
   "source": [
    "lgb_train = lgbo.Dataset(X_train, y_train)\n",
    "lgb_eval = lgbo.Dataset(X_test, y_test, reference=lgb_train)\n",
    "\n",
    "# 使用するモデル\n",
    "gbm = lgbo.train(params, lgb_train, valid_sets=lgb_eval,\n",
    "                  verbose_eval=50,  # 50イテレーション毎に学習結果出力\n",
    "                  num_boost_round=50,  # 最大イテレーション回数指定\n",
    "                 )\n",
    "\n",
    "y_repred_proba = gbm.predict(X_test)\n",
    "y_repred=np.where(y_repred_proba < 0.35, 0, 1)\n",
    "print(np.mean(y_repred))\n",
    "print(f1_score(y_repred, y_test))"
   ]
  },
  {
   "cell_type": "markdown",
   "id": "institutional-excellence",
   "metadata": {},
   "source": [
    "# 提出ファイルの作成"
   ]
  },
  {
   "cell_type": "code",
   "execution_count": 311,
   "id": "listed-oregon",
   "metadata": {},
   "outputs": [],
   "source": [
    "from imblearn.over_sampling import SMOTE\n",
    "import optuna.integration.lightgbm as lgbo\n",
    "sm_sub = SMOTE()\n",
    "X_sub, y_sub = sm.fit_resample(X, y)"
   ]
  },
  {
   "cell_type": "code",
   "execution_count": 312,
   "id": "interracial-surfing",
   "metadata": {},
   "outputs": [],
   "source": [
    "# 使用するモデル\n",
    "lgb_train_sub = lgb.Dataset(X_sub, y_sub)\n",
    "gbm_sub = lgb.train(params, lgb_train_sub,\n",
    "                  verbose_eval=50,  # 50イテレーション毎に学習結果出力\n",
    "                  num_boost_round=50,  # 最大イテレーション回数指定\n",
    "                 )\n",
    "\n",
    "\n",
    "y_pred_sub = gbm_sub.predict(df_test[using])"
   ]
  },
  {
   "cell_type": "code",
   "execution_count": 313,
   "id": "skilled-cardiff",
   "metadata": {},
   "outputs": [
    {
     "name": "stdout",
     "output_type": "stream",
     "text": [
      "0.3248\n"
     ]
    }
   ],
   "source": [
    "prd_df = pd.DataFrame(np.where(y_pred_sub < 0.35, 0, 1))\n",
    "print(np.mean(prd_df[0]))"
   ]
  },
  {
   "cell_type": "code",
   "execution_count": 314,
   "id": "divided-header",
   "metadata": {},
   "outputs": [
    {
     "name": "stdout",
     "output_type": "stream",
     "text": [
      "../feature/10301941.csv\n",
      "save completed\n"
     ]
    }
   ],
   "source": [
    "save_feature(prd_df)"
   ]
  },
  {
   "cell_type": "code",
   "execution_count": null,
   "id": "architectural-church",
   "metadata": {},
   "outputs": [],
   "source": []
  }
 ],
 "metadata": {
  "kernelspec": {
   "display_name": "Python 3",
   "language": "python",
   "name": "python3"
  },
  "language_info": {
   "codemirror_mode": {
    "name": "ipython",
    "version": 3
   },
   "file_extension": ".py",
   "mimetype": "text/x-python",
   "name": "python",
   "nbconvert_exporter": "python",
   "pygments_lexer": "ipython3",
   "version": "3.8.7"
  }
 },
 "nbformat": 4,
 "nbformat_minor": 5
}
